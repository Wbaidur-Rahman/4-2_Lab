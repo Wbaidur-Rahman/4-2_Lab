{
 "cells": [
  {
   "cell_type": "markdown",
   "metadata": {},
   "source": [
    "**At first, we should load the image_data from mnist_digit_classification dataset**"
   ]
  },
  {
   "cell_type": "code",
   "execution_count": 43,
   "metadata": {},
   "outputs": [
    {
     "name": "stdout",
     "output_type": "stream",
     "text": [
      "(60000, 28, 28) (60000,)\n"
     ]
    },
    {
     "data": {
      "image/png": "[encoded data removed]",
      "text/plain": [
       "<Figure size 640x480 with 9 Axes>"
      ]
     },
     "metadata": {},
     "output_type": "display_data"
    }
   ],
   "source": [
    "import tensorflow as tf\n",
    "import matplotlib.pyplot as plt\n",
    "import numpy as np\n",
    "\n",
    "mnist = tf.keras.datasets.mnist\n",
    "\n",
    "(x_train, y_train), (x_test, y_test) = mnist.load_data()\n",
    "\n",
    "print(x_train.shape, y_train.shape)\n",
    "\n",
    "# printing some of the loaded images\n",
    "\n",
    "def show_images(images, labels):\n",
    "    for i in range(9):\n",
    "        plt.subplot(3,3,i+1)\n",
    "        plt.imshow(images[i], cmap='gray')\n",
    "        plt.title(labels[i])\n",
    "        plt.axis('off')\n",
    "    plt.tight_layout()\n",
    "    plt.show()\n",
    "\n",
    "\n",
    "show_images(x_train[:10], y_train[:10])\n",
    "\n",
    "# Now we should reshape the datasets to 4 dimension\n",
    "x_train_4d = x_train.reshape(x_train.shape[0], 28, 28, 1)\n"
   ]
  },
  {
   "cell_type": "markdown",
   "metadata": {},
   "source": [
    "**Now we need to augment the images to generate more images**"
   ]
  },
  {
   "cell_type": "code",
   "execution_count": 44,
   "metadata": {},
   "outputs": [
    {
     "name": "stdout",
     "output_type": "stream",
     "text": [
      "(60000, 28, 28, 1) (60000,)\n"
     ]
    },
    {
     "data": {
      "image/png": "[encoded data removed]",
      "text/plain": [
       "<Figure size 640x480 with 9 Axes>"
      ]
     },
     "metadata": {},
     "output_type": "display_data"
    }
   ],
   "source": [
    "image_generator = tf.keras.preprocessing.image.ImageDataGenerator(\n",
    "    zoom_range = 0.05,\n",
    "    shear_range = 0.15\n",
    ")\n",
    "\n",
    "batch_size = 32\n",
    "\n",
    "augmented_images = image_generator.flow(\n",
    "    x_train_4d,\n",
    "    y_train,\n",
    "    batch_size,\n",
    ")\n",
    "\n",
    "new_train_images = []\n",
    "new_train_labels = []\n",
    "\n",
    "for _ in range(len(x_train)//batch_size):\n",
    "    batch_images, batch_labels = next(augmented_images)\n",
    "    new_train_images.append(batch_images)\n",
    "    new_train_labels.append(batch_labels)\n",
    "\n",
    "# Now need to concatenate the batches to generate a single numpy array\n",
    "new_train_images = np.concatenate(new_train_images, axis=0)\n",
    "new_train_labels = np.concatenate(new_train_labels, axis=0)\n",
    "\n",
    "print(new_train_images.shape, new_train_labels.shape)\n",
    "\n",
    "show_images(new_train_images[:10], new_train_labels[:10])"
   ]
  },
  {
   "cell_type": "markdown",
   "metadata": {},
   "source": [
    "**The next step is to create a model**"
   ]
  },
  {
   "cell_type": "code",
   "execution_count": 50,
   "metadata": {},
   "outputs": [],
   "source": [
    "from keras.layers import Input,Flatten, Conv2D, MaxPooling2D, Dense\n",
    "\n",
    "def create_model():\n",
    "    inputs = Input((28,28,1), name='InputLayer')\n",
    "    x = Conv2D(32, (3,3), (1,1), activation='relu') (inputs)\n",
    "    x = Conv2D(64, (3,3), (1,1), activation='relu') (x)\n",
    "    x = MaxPooling2D((3,3), strides=(1,1)) (x)\n",
    "    x = Flatten() (x)\n",
    "    x = Dense(64, activation='relu') (x)\n",
    "    outputs = Dense(10, activation='softmax', name='OutputLayer') (x)\n",
    "\n",
    "    model = tf.keras.Model(inputs, outputs, name='Multi_Class_Classifier')\n",
    "\n",
    "    model.compile(loss='categorical_crossentropy', metrics='accuracy')\n",
    "\n",
    "    model.summary()\n",
    "\n",
    "    return model"
   ]
  },
  {
   "cell_type": "markdown",
   "metadata": {},
   "source": [
    "**Now creating a model and then fitting it with the original mnist data**"
   ]
  },
  {
   "cell_type": "code",
   "execution_count": 52,
   "metadata": {},
   "outputs": [
    {
     "name": "stdout",
     "output_type": "stream",
     "text": [
      "Model: \"Multi_Class_Classifier\"\n",
      "_________________________________________________________________\n",
      " Layer (type)                Output Shape              Param #   \n",
      "=================================================================\n",
      " InputLayer (InputLayer)     [(None, 28, 28, 1)]       0         \n",
      "                                                                 \n",
      " conv2d_22 (Conv2D)          (None, 26, 26, 32)        320       \n",
      "                                                                 \n",
      " conv2d_23 (Conv2D)          (None, 24, 24, 64)        18496     \n",
      "                                                                 \n",
      " max_pooling2d_11 (MaxPooli  (None, 22, 22, 64)        0         \n",
      " ng2D)                                                           \n",
      "                                                                 \n",
      " flatten_11 (Flatten)        (None, 30976)             0         \n",
      "                                                                 \n",
      " dense_11 (Dense)            (None, 64)                1982528   \n",
      "                                                                 \n",
      " OutputLayer (Dense)         (None, 10)                650       \n",
      "                                                                 \n",
      "=================================================================\n",
      "Total params: 2001994 (7.64 MB)\n",
      "Trainable params: 2001994 (7.64 MB)\n",
      "Non-trainable params: 0 (0.00 Byte)\n",
      "_________________________________________________________________\n",
      "(60000, 28, 28, 1) (60000, 10)\n",
      "Epoch 1/10\n",
      "1688/1688 [==============================] - 65s 38ms/step - loss: 1.4820 - accuracy: 0.9407 - val_loss: 0.1090 - val_accuracy: 0.9767\n",
      "Epoch 2/10\n",
      "1688/1688 [==============================] - 69s 41ms/step - loss: 0.0957 - accuracy: 0.9775 - val_loss: 0.1113 - val_accuracy: 0.9793\n",
      "Epoch 3/10\n",
      "1688/1688 [==============================] - 60s 36ms/step - loss: 0.0770 - accuracy: 0.9819 - val_loss: 0.1114 - val_accuracy: 0.9810\n",
      "Epoch 4/10\n",
      "1688/1688 [==============================] - 58s 35ms/step - loss: 0.0628 - accuracy: 0.9853 - val_loss: 0.0825 - val_accuracy: 0.9830\n",
      "Epoch 5/10\n",
      "1688/1688 [==============================] - 58s 34ms/step - loss: 0.0555 - accuracy: 0.9883 - val_loss: 0.0977 - val_accuracy: 0.9865\n",
      "Epoch 6/10\n",
      "1688/1688 [==============================] - 61s 36ms/step - loss: 0.0470 - accuracy: 0.9899 - val_loss: 0.1258 - val_accuracy: 0.9843\n",
      "Epoch 7/10\n",
      "1688/1688 [==============================] - 58s 34ms/step - loss: 0.0447 - accuracy: 0.9911 - val_loss: 0.1127 - val_accuracy: 0.9870\n",
      "Epoch 8/10\n",
      "1688/1688 [==============================] - 59s 35ms/step - loss: 0.0449 - accuracy: 0.9927 - val_loss: 0.1492 - val_accuracy: 0.9825\n",
      "Epoch 9/10\n",
      "1688/1688 [==============================] - 61s 36ms/step - loss: 0.0437 - accuracy: 0.9931 - val_loss: 0.2273 - val_accuracy: 0.9847\n",
      "Epoch 10/10\n",
      "1688/1688 [==============================] - 72s 43ms/step - loss: 0.0465 - accuracy: 0.9936 - val_loss: 0.2491 - val_accuracy: 0.9855\n"
     ]
    },
    {
     "data": {
      "text/plain": [
       "<keras.src.callbacks.History at 0x2036984cd90>"
      ]
     },
     "execution_count": 52,
     "metadata": {},
     "output_type": "execute_result"
    }
   ],
   "source": [
    "original_data_model = create_model()\n",
    "\n",
    "y_train_categorical = tf.keras.utils.to_categorical(y_train, num_classes=10)\n",
    "\n",
    "print(x_train_4d.shape, y_train_categorical.shape)\n",
    "\n",
    "original_data_model.fit(x_train_4d, y_train_categorical, batch_size=32, validation_split = 0.1, epochs= 10)\n"
   ]
  }
 ],
 "metadata": {
  "kernelspec": {
   "display_name": "Python 3",
   "language": "python",
   "name": "python3"
  },
  "language_info": {
   "codemirror_mode": {
    "name": "ipython",
    "version": 3
   },
   "file_extension": ".py",
   "mimetype": "text/x-python",
   "name": "python",
   "nbconvert_exporter": "python",
   "pygments_lexer": "ipython3",
   "version": "3.11.4"
  }
 },
 "nbformat": 4,
 "nbformat_minor": 2
}
